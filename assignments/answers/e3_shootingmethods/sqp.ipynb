{
 "cells": [
  {
   "cell_type": "code",
   "execution_count": 1,
   "metadata": {},
   "outputs": [
    {
     "name": "stdout",
     "output_type": "stream",
     "text": [
      "Optimal solution:\n",
      "x = [0. 0.]\n",
      "Minimum value of the objective function: 13.0\n"
     ]
    }
   ],
   "source": [
    "from scipy.optimize import minimize\n",
    "\n",
    "def objective_function(x):\n",
    "    return (x[0] - 2)**2 + (x[1] - 3)**2\n",
    "\n",
    "def constraint_eq(x):\n",
    "    return x[0]**2 + x[1]**2 - 25\n",
    "\n",
    "def constraint_ineq(x):\n",
    "    return x[0] + x[1] - 10\n",
    "\n",
    "# Initial guess\n",
    "x0 = [0, 0]\n",
    "\n",
    "# Define bounds for variables\n",
    "bounds = ((None, None), (None, None))  # No bounds in this case\n",
    "\n",
    "# Define equality and inequality constraints\n",
    "constraints = ({'type': 'eq', 'fun': constraint_eq},\n",
    "               {'type': 'ineq', 'fun': constraint_ineq})\n",
    "\n",
    "# Use Sequential Quadratic Programming (SQP) method for optimization\n",
    "result = minimize(objective_function, x0, method='SLSQP', bounds=bounds, constraints=constraints)\n",
    "\n",
    "# Print the result\n",
    "print(\"Optimal solution:\")\n",
    "print(\"x =\", result.x)\n",
    "print(\"Minimum value of the objective function:\", result.fun)\n"
   ]
  },
  {
   "cell_type": "code",
   "execution_count": null,
   "metadata": {},
   "outputs": [],
   "source": []
  }
 ],
 "metadata": {
  "kernelspec": {
   "display_name": "myenv",
   "language": "python",
   "name": "python3"
  },
  "language_info": {
   "codemirror_mode": {
    "name": "ipython",
    "version": 3
   },
   "file_extension": ".py",
   "mimetype": "text/x-python",
   "name": "python",
   "nbconvert_exporter": "python",
   "pygments_lexer": "ipython3",
   "version": "3.8.10"
  }
 },
 "nbformat": 4,
 "nbformat_minor": 2
}

{
 "cells": [
  {
   "cell_type": "code",
   "execution_count": 1,
   "id": "6e767dd5-a00b-427b-9038-2a38a35d830a",
   "metadata": {},
   "outputs": [],
   "source": [
    "import autograd.numpy as np\n",
    "from autograd import grad\n",
    "import matplotlib.pyplot as plt"
   ]
  },
  {
   "cell_type": "markdown",
   "id": "8562c736-95c0-4d70-b148-c6af9bf4c5a2",
   "metadata": {},
   "source": [
    "# equation of the simple pendulum\n",
    "![title](img/simple_pendulum_state_Space1.png)\n",
    "\n"
   ]
  },
  {
   "cell_type": "code",
   "execution_count": null,
   "id": "91ef7580-a079-4d0e-bc22-62f048136e98",
   "metadata": {},
   "outputs": [],
   "source": [
    "# dynamics of the simple pendulum\n",
    "M=1\n",
    "L=1\n",
    "g=9.81\n",
    "\n",
    "def pendulum(x,u):\n",
    "    theta1 ,theta2=x\n",
    "    dtheta1=theta2\n",
    "    dtheta2=-(g*np.sin(theta1)/L)+(u/(M*L**2))\n",
    "\n",
    "return np.array([dtheta1,dtheta2])\n",
    "\n",
    "\n",
    "# Define the Runge-Kutta 4th order integration function to get the next step\n",
    "def rk4_step( x, u, dt):\n",
    "    k1 = dt*pendulum(x,u)\n",
    "    k2 = dt*pendulum(x + k1/2, u)\n",
    "    k3 = dt*pendulum(x + k2/2, u)\n",
    "    k4 = dt*pendulum(x + k3, u)\n",
    "    return x + (1/6.0) * (k1 + 2*k2 + 2*k3 + k4)\n",
    "    \n",
    "    \n",
    "    "
   ]
  }
 ],
 "metadata": {
  "kernelspec": {
   "display_name": "myenv",
   "language": "python",
   "name": "myenv"
  },
  "language_info": {
   "codemirror_mode": {
    "name": "ipython",
    "version": 3
   },
   "file_extension": ".py",
   "mimetype": "text/x-python",
   "name": "python",
   "nbconvert_exporter": "python",
   "pygments_lexer": "ipython3",
   "version": "3.8.10"
  }
 },
 "nbformat": 4,
 "nbformat_minor": 5
}

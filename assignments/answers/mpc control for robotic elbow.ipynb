{
 "cells": [
  {
   "cell_type": "code",
   "execution_count": 1,
   "id": "6e767dd5-a00b-427b-9038-2a38a35d830a",
   "metadata": {},
   "outputs": [],
   "source": [
    "import autograd.numpy as np\n",
    "from autograd import grad\n",
    "import matplotlib.pyplot as plt"
   ]
  },
  {
   "cell_type": "markdown",
   "id": "e32a2838-e249-4ccd-a271-e4d827388ef6",
   "metadata": {},
   "source": [
    "# equation of the simple pendulum\n",
    "![title](img/simple_pendulum_state_Space1.png)\n",
    "\n"
   ]
  },
  {
   "cell_type": "code",
   "execution_count": null,
   "id": "91ef7580-a079-4d0e-bc22-62f048136e98",
   "metadata": {},
   "outputs": [],
   "source": [
    "# dynamics of the simple pendulum\n",
    "M=1\n",
    "L=1\n",
    "g=9.81\n",
    "\n",
    "def pendulum(x,u):\n",
    "    theta1 ,theta2=x\n",
    "    dtheta1=theta2\n",
    "    dtheta2=-(g*np.sin(theta1)/L)+(u/(M*L**2))\n",
    "\n",
    "return np.array([dtheta1,dtheta2])\n",
    "\n",
    "\n",
    "# Define the Runge-Kutta 4th order integration function to get the next step\n",
    "def rk4_step( x, u, dt):\n",
    "    k1 = dt*pendulum(x,u)\n",
    "    k2 = dt*pendulum(x + k1/2, u)\n",
    "    k3 = dt*pendulum(x + k2/2, u)\n",
    "    k4 = dt*pendulum(x + k3, u)\n",
    "    return x + (1/6.0) * (k1 + 2*k2 + 2*k3 + k4)\n",
    "    \n",
    "    \n",
    "    "
   ]
  },
  {
   "cell_type": "markdown",
   "id": "e602ff59-aeec-47ad-bceb-690b736779d9",
   "metadata": {},
   "source": [
    "# Qp solver format\n",
    "![title](img/qp_Solver_python.png)"
   ]
  },
  {
   "cell_type": "code",
   "execution_count": 6,
   "id": "2a9d6da8-21a1-4763-935a-059ca21fa4cd",
   "metadata": {},
   "outputs": [
    {
     "name": "stdout",
     "output_type": "stream",
     "text": [
      "QP solution: x = array([ 0.30769231, -0.69230769,  1.38461538])\n"
     ]
    }
   ],
   "source": [
    "#solving the example quadratic programming using the off the shelf solver\n",
    "import numpy as np\n",
    "from qpsolvers import solve_qp\n",
    "\n",
    "M = np.array([[1.0, 2.0, 0.0], [-8.0, 3.0, 2.0], [0.0, 1.0, 1.0]])\n",
    "P = M.T @ M  # this is a positive definite matrix\n",
    "q = np.array([3.0, 2.0, 3.0]) @ M\n",
    "G = np.array([[1.0, 2.0, 1.0], [2.0, 0.0, 1.0], [-1.0, 2.0, -1.0]])\n",
    "h = np.array([3.0, 2.0, -2.0])\n",
    "A = np.array([1.0, 1.0, 1.0])\n",
    "b = np.array([1.0])\n",
    "x = solve_qp(P, q, G, h, A, b, solver=\"cvxopt\")\n",
    "print(f\"QP solution: {x = }\")\n",
    "\n"
   ]
  },
  {
   "cell_type": "code",
   "execution_count": null,
   "id": "651240e2-8e41-4e84-aa46-a9778a95c90e",
   "metadata": {},
   "outputs": [],
   "source": [
    "# using the same QP format to solve the double integral system\n",
    "\n",
    "#dynamics of the double integrator ( mass sliding on the ice)\n",
    "m=1\n",
    "def doubleIntegrator(x,u):\n",
    "    x1,x2=x\n",
    "    dx1=x2\n",
    "    dx2=u/m\n",
    "    return np.array([dx1,dx2])\n",
    "\n",
    "# Define the Runge-Kutta 4th order integration function to get the next step\n",
    "def rk4_step( x, u, dt):\n",
    "    k1 = dt*doubleIntegrator(x,u)\n",
    "    k2 = dt*doubleIntegrator(x + k1/2, u)\n",
    "    k3 = dt*doubleIntegrator(x + k2/2, u)\n",
    "    k4 = dt*doubleIntegrator(x + k3, u)\n",
    "    return x + (1/6.0) * (k1 + 2*k2 + 2*k3 + k4)\n",
    "\n",
    "\n",
    "dt =0.01\n",
    "x0=np.array([0.0,0.0])\n",
    "u0=0.0\n",
    "\n",
    "Ad=jacobian(rk4_step,argnum=0)(x0,u0,dt)\n",
    "Bd=jacobian(rk4_step,argnum=1)(x0,u0,dt)\n",
    "\n",
    "print(\"Ad\",Ad)\n",
    "print(\"Bd\",Bd)\n"
   ]
  },
  {
   "cell_type": "code",
   "execution_count": null,
   "id": "2fabe9a6",
   "metadata": {},
   "outputs": [],
   "source": [
    "# using the same QP format to solve the double integral system\n",
    "\n",
    "#dynamics of the double integrator ( mass sliding on the ice)\n",
    "m=1\n",
    "def doubleIntegrator(x,u):\n",
    "    x1,x2=x\n",
    "    dx1=x2\n",
    "    dx2=u/m\n",
    "    return np.array([dx1,dx2])\n",
    "\n",
    "# Define the Runge-Kutta 4th order integration function to get the next step\n",
    "def rk4_step( x, u, dt):\n",
    "    k1 = dt*doubleIntegrator(x,u)\n",
    "    k2 = dt*doubleIntegrator(x + k1/2, u)\n",
    "    k3 = dt*doubleIntegrator(x + k2/2, u)\n",
    "    k4 = dt*doubleIntegrator(x + k3, u)\n",
    "    return x + (1/6.0) * (k1 + 2*k2 + 2*k3 + k4)\n",
    "\n",
    "\n",
    "dt =0.01\n",
    "x0=np.array([0.0,0.0])\n",
    "u0=0.0\n",
    "\n",
    "Ad=jacobian(rk4_step,argnum=0)(x0,u0,dt)\n",
    "Bd=jacobian(rk4_step,argnum=1)(x0,u0,dt)\n",
    "\n",
    "print(\"Ad\",Ad)\n",
    "print(\"Bd\",Bd)\n",
    "\n"
   ]
  }
 ],
 "metadata": {
  "kernelspec": {
   "display_name": "myenv",
   "language": "python",
   "name": "myenv"
  },
  "language_info": {
   "codemirror_mode": {
    "name": "ipython",
    "version": 3
   },
   "file_extension": ".py",
   "mimetype": "text/x-python",
   "name": "python",
   "nbconvert_exporter": "python",
   "pygments_lexer": "ipython3",
   "version": "3.8.10"
  }
 },
 "nbformat": 4,
 "nbformat_minor": 5
}
